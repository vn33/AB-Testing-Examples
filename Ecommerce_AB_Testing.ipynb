{
 "cells": [
  {
   "cell_type": "markdown",
   "id": "6cc54712",
   "metadata": {},
   "source": [
    "# A/B Testing for E-commerce Advertisement Colors\n",
    "\n",
    "In this notebook, we will perform an A/B test to evaluate the impact of different advertisement colors on the conversion rate for Flipkart's iPhone 13 sales. We will go step-by-step through the process, explaining each concept in detail.\n"
   ]
  },
  {
   "cell_type": "markdown",
   "id": "a0ae6cf9",
   "metadata": {},
   "source": [
    "## 1. Introduction\n",
    "\n",
    "A/B testing, also known as split testing, is a method of comparing two versions of a webpage, app, email, or other user experience to determine which one performs better. In this example, we will compare two different advertisement colors for the iPhone 13 on Flipkart to see which one leads to a higher conversion rate.\n"
   ]
  },
  {
   "cell_type": "markdown",
   "id": "189e37f5",
   "metadata": {},
   "source": [
    "## 2. Define the Hypothesis\n",
    "\n",
    "**Hypothesis**: Changing the advertisement color of the iPhone 13 on Flipkart from color A to color B will increase the conversion rate.\n",
    "\n",
    "- **Control Group (A)**: Advertisement with color A.\n",
    "- **Variation Group (B)**: Advertisement with color B.\n",
    "\n",
    "## 3. Generate Synthetic Data\n",
    "\n",
    "We will generate synthetic data to simulate the visitors and conversions for each group. Assume we have 10,000 visitors in each group.\n",
    "- Control group (A) has a 2.5% conversion rate.\n",
    "- Variation group (B) has a 3.0% conversion rate.\n"
   ]
  },
  {
   "cell_type": "code",
   "execution_count": 2,
   "id": "fc773ee0",
   "metadata": {},
   "outputs": [
    {
     "data": {
      "text/html": [
       "<div>\n",
       "<style scoped>\n",
       "    .dataframe tbody tr th:only-of-type {\n",
       "        vertical-align: middle;\n",
       "    }\n",
       "\n",
       "    .dataframe tbody tr th {\n",
       "        vertical-align: top;\n",
       "    }\n",
       "\n",
       "    .dataframe thead th {\n",
       "        text-align: right;\n",
       "    }\n",
       "</style>\n",
       "<table border=\"1\" class=\"dataframe\">\n",
       "  <thead>\n",
       "    <tr style=\"text-align: right;\">\n",
       "      <th></th>\n",
       "      <th>group</th>\n",
       "      <th>converted</th>\n",
       "    </tr>\n",
       "  </thead>\n",
       "  <tbody>\n",
       "    <tr>\n",
       "      <th>0</th>\n",
       "      <td>control</td>\n",
       "      <td>0</td>\n",
       "    </tr>\n",
       "    <tr>\n",
       "      <th>1</th>\n",
       "      <td>control</td>\n",
       "      <td>0</td>\n",
       "    </tr>\n",
       "    <tr>\n",
       "      <th>2</th>\n",
       "      <td>control</td>\n",
       "      <td>0</td>\n",
       "    </tr>\n",
       "    <tr>\n",
       "      <th>3</th>\n",
       "      <td>control</td>\n",
       "      <td>0</td>\n",
       "    </tr>\n",
       "    <tr>\n",
       "      <th>4</th>\n",
       "      <td>control</td>\n",
       "      <td>0</td>\n",
       "    </tr>\n",
       "  </tbody>\n",
       "</table>\n",
       "</div>"
      ],
      "text/plain": [
       "     group  converted\n",
       "0  control          0\n",
       "1  control          0\n",
       "2  control          0\n",
       "3  control          0\n",
       "4  control          0"
      ]
     },
     "execution_count": 2,
     "metadata": {},
     "output_type": "execute_result"
    }
   ],
   "source": [
    "# Import necessary libraries\n",
    "import numpy as np\n",
    "import pandas as pd\n",
    "\n",
    "# Set random seed for reproducibility\n",
    "np.random.seed(42)\n",
    "\n",
    "# Assume we have 10,000 visitors in each group\n",
    "n_control = 10000\n",
    "n_variation = 10000\n",
    "\n",
    "# Assume a 2.5% conversion rate for the control group\n",
    "conversion_rate_control = 0.025\n",
    "\n",
    "# Assume a 3.0% conversion rate for the variation group\n",
    "conversion_rate_variation = 0.03\n",
    "\n",
    "# Simulate conversions: 1 = converted, 0 = did not convert\n",
    "control_conversions = np.random.binomial(1, conversion_rate_control, n_control)\n",
    "variation_conversions = np.random.binomial(1, conversion_rate_variation, n_variation)\n",
    "\n",
    "# Create DataFrame\n",
    "data = pd.DataFrame({\n",
    "    'group': ['control'] * n_control + ['variation'] * n_variation,\n",
    "    'converted': np.concatenate([control_conversions, variation_conversions])\n",
    "})\n",
    "\n",
    "data.head()\n"
   ]
  },
  {
   "cell_type": "markdown",
   "id": "77f0737b",
   "metadata": {},
   "source": [
    "## 4. Calculate Conversion Rates\n",
    "\n",
    "Conversion Rate is a metric used to measure the percentage of users who complete a desired action out of the total number of users who interacted with a campaign, website, app, or other platforms. The desired action could be anything, such as making a purchase, signing up for a newsletter, downloading an app, etc.\n",
    "\n",
    "We will calculate the conversion rates for both the control and variation groups to see the initial comparison.\n"
   ]
  },
  {
   "cell_type": "code",
   "execution_count": 3,
   "id": "863e0016",
   "metadata": {},
   "outputs": [
    {
     "name": "stdout",
     "output_type": "stream",
     "text": [
      "Conversion Rates:\n",
      "       group  conversion_rate\n",
      "0    control           0.0225\n",
      "1  variation           0.0325\n"
     ]
    },
    {
     "data": {
      "text/html": [
       "<div>\n",
       "<style scoped>\n",
       "    .dataframe tbody tr th:only-of-type {\n",
       "        vertical-align: middle;\n",
       "    }\n",
       "\n",
       "    .dataframe tbody tr th {\n",
       "        vertical-align: top;\n",
       "    }\n",
       "\n",
       "    .dataframe thead th {\n",
       "        text-align: right;\n",
       "    }\n",
       "</style>\n",
       "<table border=\"1\" class=\"dataframe\">\n",
       "  <thead>\n",
       "    <tr style=\"text-align: right;\">\n",
       "      <th></th>\n",
       "      <th>group</th>\n",
       "      <th>conversion_rate</th>\n",
       "    </tr>\n",
       "  </thead>\n",
       "  <tbody>\n",
       "    <tr>\n",
       "      <th>0</th>\n",
       "      <td>control</td>\n",
       "      <td>0.0225</td>\n",
       "    </tr>\n",
       "    <tr>\n",
       "      <th>1</th>\n",
       "      <td>variation</td>\n",
       "      <td>0.0325</td>\n",
       "    </tr>\n",
       "  </tbody>\n",
       "</table>\n",
       "</div>"
      ],
      "text/plain": [
       "       group  conversion_rate\n",
       "0    control           0.0225\n",
       "1  variation           0.0325"
      ]
     },
     "execution_count": 3,
     "metadata": {},
     "output_type": "execute_result"
    }
   ],
   "source": [
    "# Calculate conversion rates\n",
    "conversion_rates = data.groupby('group')['converted'].mean().reset_index()\n",
    "conversion_rates.columns = ['group', 'conversion_rate']\n",
    "\n",
    "print(\"Conversion Rates:\")\n",
    "print(conversion_rates)\n",
    "\n",
    "conversion_rates\n"
   ]
  },
  {
   "cell_type": "markdown",
   "id": "5f1bd162",
   "metadata": {},
   "source": [
    "# 5. Perform Statistical Significance Test\n",
    "\n",
    "We will use the Chi-Squared test to determine if the difference in conversion rates between the control and variation groups is statistically significant.\n"
   ]
  },
  {
   "cell_type": "code",
   "execution_count": 5,
   "id": "d365ba28",
   "metadata": {},
   "outputs": [
    {
     "name": "stdout",
     "output_type": "stream",
     "text": [
      "Chi-squared: 18.32390745501285\n",
      "p-value: 1.8635380677501434e-05\n"
     ]
    }
   ],
   "source": [
    "# Perform statistical significance test\n",
    "control_success = np.sum(control_conversions)\n",
    "variation_success = np.sum(variation_conversions)\n",
    "\n",
    "control_failure = n_control - control_success\n",
    "variation_failure = n_variation - variation_success\n",
    "\n",
    "# Create contingency table\n",
    "contingency_table = np.array([\n",
    "    [control_success, control_failure],\n",
    "    [variation_success, variation_failure]\n",
    "])\n",
    "\n",
    "# Perform Chi-Squared test\n",
    "from scipy import stats\n",
    "chi2, p, dof, expected = stats.chi2_contingency(contingency_table)\n",
    "\n",
    "print(f'Chi-squared: {chi2}')\n",
    "print(f'p-value: {p}')"
   ]
  },
  {
   "cell_type": "markdown",
   "id": "05f119d3",
   "metadata": {},
   "source": [
    "# 6. Visualize Results\n",
    "\n",
    " We will create a bar plot to visualize the conversion rates for both the control and variation groups.\n"
   ]
  },
  {
   "cell_type": "code",
   "execution_count": 6,
   "id": "1b7cc672",
   "metadata": {},
   "outputs": [
    {
     "data": {
      "image/png": "[encoded data removed]",
      "text/plain": [
       "<Figure size 800x600 with 1 Axes>"
      ]
     },
     "metadata": {},
     "output_type": "display_data"
    }
   ],
   "source": [
    "# Import visualization libraries\n",
    "import matplotlib.pyplot as plt\n",
    "import seaborn as sns\n",
    "\n",
    "# Set plot style\n",
    "sns.set(style=\"whitegrid\")\n",
    "\n",
    "# Visualize results\n",
    "plt.figure(figsize=(8, 6))\n",
    "sns.barplot(x='group', y='conversion_rate', data=conversion_rates, palette='viridis')\n",
    "plt.title('Conversion Rates by Advertisement Color Group')\n",
    "plt.xlabel('Group')\n",
    "plt.ylabel('Conversion Rate')\n",
    "plt.ylim(0, max(conversion_rates['conversion_rate']) * 1.1)\n",
    "plt.show()\n"
   ]
  },
  {
   "cell_type": "markdown",
   "id": "6e73a5aa",
   "metadata": {},
   "source": [
    "# 7. Conclusion\n",
    "Based on the p-value obtained from the Chi-Squared test, we can determine if the difference in conversion rates is statistically significant.\n",
    "\n",
    "- the p-value is greater than or equal to 0.05, we fail to reject the null hypothesis and conclude that the difference is not statistically significant."
   ]
  }
 ],
 "metadata": {
  "kernelspec": {
   "display_name": "Python 3 (ipykernel)",
   "language": "python",
   "name": "python3"
  },
  "language_info": {
   "codemirror_mode": {
    "name": "ipython",
    "version": 3
   },
   "file_extension": ".py",
   "mimetype": "text/x-python",
   "name": "python",
   "nbconvert_exporter": "python",
   "pygments_lexer": "ipython3",
   "version": "3.11.5"
  }
 },
 "nbformat": 4,
 "nbformat_minor": 5
}
